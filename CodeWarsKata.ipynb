{
 "cells": [
  {
   "metadata": {},
   "cell_type": "markdown",
   "source": [
    "Find the first character that repeats in a String and return that character.\n",
    "```python\n",
    "first_dup('tweet') => 't'\n",
    "first_dup('like') => None\n",
    "```\n",
    "This is not the same as finding the character that repeats first. In that case, an input of 'tweet' would yield 'e'.\n",
    "\n",
    "**Another example:**\n",
    "\n",
    "In 'translator' you should return 't', not 'a'.\n",
    "```\n",
    "v      v\n",
    "translator\n",
    "  ^   ^\n",
    "```\n",
    "While second 'a' appears before second 't', the first 't' is before the first 'a'."
   ],
   "id": "ad3239703b0d881c"
  },
  {
   "metadata": {},
   "cell_type": "code",
   "source": [
    "def first_dup(s:str) -> str:\n",
    "    return next((x for x in s if s.count(x) > 1), None)"
   ],
   "id": "1badd941b3b83fd4",
   "outputs": [],
   "execution_count": null
  },
  {
   "metadata": {},
   "cell_type": "markdown",
   "source": [
    "---\n",
    "\n",
    "Complete the solution so that it reverses the string passed into it.\n",
    "```\n",
    "'world'  =>  'dlrow'\n",
    "'word'   =>  'drow'\n",
    "```"
   ],
   "id": "d188c86547e6bf6b"
  },
  {
   "metadata": {
    "jupyter": {
     "is_executing": true
    }
   },
   "cell_type": "code",
   "source": "def solution(string:str): return string[::-1]",
   "id": "bd01b246eb3a75d9",
   "outputs": [],
   "execution_count": null
  },
  {
   "metadata": {},
   "cell_type": "markdown",
   "source": [
    "---\n",
    "Your team is writing a fancy new text editor and you've been tasked with implementing the line numbering.\n",
    "\n",
    "Write a function which takes a list of strings and returns each line prepended by the correct number.\n",
    "\n",
    "The numbering starts at 1. The format is `n: string`. Notice the colon and space in between.\n",
    "\n",
    "**Examples: (Input --> Output)**\n",
    "```\n",
    "[] --> []\n",
    "[\"a\", \"b\", \"c\"] --> [\"1: a\", \"2: b\", \"3: c\"]\n",
    "```"
   ],
   "id": "63975e5ba4aafafa"
  },
  {
   "metadata": {},
   "cell_type": "code",
   "source": [
    "def number(lines: list) -> list:\n",
    "    return [f\"{index + 1}: {line}\" for index, line in enumerate(lines)]"
   ],
   "id": "6d778bccfd06054d",
   "outputs": [],
   "execution_count": null
  },
  {
   "metadata": {},
   "cell_type": "markdown",
   "source": [
    "---\n",
    "**A square of squares**\n",
    "\n",
    "You like building blocks. You especially like building blocks that are squares. And what you even like more, is to arrange them into a square of square building blocks!\n",
    "\n",
    "However, sometimes, you can't arrange them into a square. Instead, you end up with an ordinary rectangle! Those blasted things! If you just had a way to know, whether you're currently working in vain… Wait! That's it! You just have to check if your number of building blocks is a perfect square.\n",
    "\n",
    "**Task**\n",
    "\n",
    "Given an integral number, determine if it's a <u>square number</u>:\n",
    "\n",
    ">_\"In mathematics, a **square number** or **perfect square** is an integer that is the square of an integer; in other words, it is the product of some integer with itself.\"_\n",
    "\n",
    "The tests will always use some integral number, so don't worry about that in dynamic typed languages.\n",
    "\n",
    "**Examples**\n",
    "```\n",
    "-1  =>  false\n",
    " 0  =>  true\n",
    " 3  =>  false\n",
    " 4  =>  true\n",
    "25  =>  true\n",
    "26  =>  false\n",
    "```"
   ],
   "id": "84c5ac582f5952ab"
  },
  {
   "metadata": {},
   "cell_type": "code",
   "source": "def is_square(n: int) -> bool: return 0 <= n == int(n ** 0.5)**2",
   "id": "4fd7febd34c731d2",
   "outputs": [],
   "execution_count": null
  },
  {
   "metadata": {},
   "cell_type": "markdown",
   "source": [
    "---\n",
    "You are going to be given an array of integers. Your job is to take that array and find an index N where the sum of the integers to the left of N is equal to the sum of the integers to the right of N.\n",
    "\n",
    "If there is no index that would make this happen, return `-1`.\n",
    "\n",
    "**For example:**\n",
    "\n",
    "Let's say you are given the array `{1,2,3,4,3,2,1}`:\n",
    "Your function will return the index `3`, because at the 3rd position of the array, the sum of left side of the index (`{1,2,3}`) and the sum of the right side of the index (`{3,2,1}`) both equal `6`.\n",
    "\n",
    "Let's look at another one:\n",
    "\n",
    "You are given the array `{1,100,50,-51,1,1}`:\n",
    "Your function will return the index `1`, because at the 1st position of the array, the sum of left side of the index (`{1}`) and the sum of the right side of the index (`{50,-51,1,1}`) both equal `1`.\n",
    "\n",
    "Last one:\n",
    "\n",
    "You are given the array `{20,10,-80,10,10,15,35}`\n",
    "At index 0 the left side is `{}`\n",
    "The right side is `{10,-80,10,10,15,35}`\n",
    "They both are equal to `0` when added. (Empty arrays are equal to 0 in this problem)\n",
    "Index `0` is the place where the left side and right side are equal.\n",
    "\n",
    "Note: Please remember that in most languages the index of an array starts at 0.\n",
    "\n",
    "**Input**\n",
    "\n",
    "An integer array of length `0 < arr < 1000`. The numbers in the array can be any integer positive or negative.\n",
    "\n",
    "**Output**\n",
    "\n",
    "The lowest index N where the side to the left of `N` is equal to the side to the right of `N`. If you do not find an index that fits these rules, then you will return `-1`.\n",
    "\n",
    "**Note**\n",
    "\n",
    "If you are given an array with multiple answers, return the lowest correct index."
   ],
   "id": "b9607e6ab02bc400"
  },
  {
   "metadata": {
    "jupyter": {
     "is_executing": true
    }
   },
   "cell_type": "code",
   "source": [
    "def find_even_index(arr: list) -> int:\n",
    "    left = 0\n",
    "    for i in range(len(arr)):\n",
    "        right = sum(arr) - left - arr[i]\n",
    "        if left == right:\n",
    "            return i\n",
    "        left += arr[i]\n",
    "    return None\n",
    "# Oneline with next()\n",
    "def find_even_index2(arr: list) -> list: return next((i for i in range(len(arr)) if sum(arr[:i]) == sum(arr[i+1:])),-1)"
   ],
   "id": "ee26af4e809a7937",
   "outputs": [],
   "execution_count": null
  },
  {
   "metadata": {},
   "cell_type": "markdown",
   "source": [
    "---\n",
    "Write a function named `setAlarm`/`set_alarm`/`set-alarm`/`setalarm` (depending on language) which receives two parameters. The first parameter, `employed`, is true whenever you are employed and the second parameter, `vacation` is true whenever you are on vacation.\n",
    "\n",
    "The function should return true if you are employed and not on vacation (because these are the circumstances under which you need to set an alarm). It should return false otherwise. Examples:\n",
    "```\n",
    "employed | vacation\n",
    "true     | true     => false\n",
    "true     | false    => true\n",
    "false    | true     => false\n",
    "false    | false    => false\n",
    "```"
   ],
   "id": "8d699d1260624648"
  },
  {
   "metadata": {},
   "cell_type": "code",
   "outputs": [],
   "execution_count": null,
   "source": "def set_alarm(employed: bool, vacation: bool) -> bool: return next(True if employed == True and vacation == False, False)",
   "id": "958e8b9b83062a3c"
  },
  {
   "metadata": {},
   "cell_type": "markdown",
   "source": [
    "---\n",
    "### <mark style=\"background: white\">8 kyu</mark> Opposites Attract\n",
    "Timmy & Sarah think they are in love, but around where they live, they will only know once they pick a flower each. If one of the flowers has an even number of petals and the other has an odd number of petals it means they are in love.\n",
    "\n",
    "Write a function that will take the number of petals of each flower and return true if they are in love and false if they aren't."
   ],
   "id": "cae6ffa3373d8c96"
  },
  {
   "metadata": {},
   "cell_type": "code",
   "outputs": [],
   "execution_count": null,
   "source": "def lovefunc( flower1: int, flower2: int ) -> bool: return (flower1 + flower2) % 2 != 0",
   "id": "87661d4e6e314db6"
  },
  {
   "metadata": {},
   "cell_type": "markdown",
   "source": [
    "---\n",
    "### <mark style=\"background: white\">7 kyu</mark> Friend or Foe?\n",
    "Make a program that filters a list of strings and returns a list with only your friends name in it.\n",
    "\n",
    "If a name has exactly 4 letters in it, you can be sure that it has to be a friend of yours! Otherwise, you can be sure he's not...\n",
    "```\n",
    "Input = [\"Ryan\", \"Kieran\", \"Jason\", \"Yous\"]\n",
    "Output = [\"Ryan\", \"Yous\"]\n",
    "\n",
    "Input = [\"Peter\", \"Stephen\", \"Joe\"]\n",
    "Output = []\n",
    "```\n",
    "Input strings will only contain letters.\n",
    "Note: keep the original order of the names in the output."
   ],
   "id": "cd4be15aff0d9699"
  },
  {
   "metadata": {},
   "cell_type": "code",
   "outputs": [],
   "execution_count": null,
   "source": "def friend(x: list[str]) -> list[str]: return [i for i in x if len(i) == 4]",
   "id": "e22466fc6b7b564"
  },
  {
   "metadata": {},
   "cell_type": "markdown",
   "source": [
    "---\n",
    "### <mark style=\"background: #yellow\">6 kyu</mark> Sum of Digits / Digital Root\n",
    "<u>Digital root</u> is the recursive sum of all the digits in a number.\n",
    "\n",
    "Given `n`, take the sum of the digits of `n`. If that value has more than one digit, continue reducing in this way until a single-digit number is produced. The input will be a non-negative integer.\n",
    "\n",
    "**Examples**\n",
    "```\n",
    "    16  -->  1 + 6 = 7\n",
    "   942  -->  9 + 4 + 2 = 15  -->  1 + 5 = 6\n",
    "132189  -->  1 + 3 + 2 + 1 + 8 + 9 = 24  -->  2 + 4 = 6\n",
    "493193  -->  4 + 9 + 3 + 1 + 9 + 3 = 29  -->  2 + 9 = 11  -->  1 + 1 = 2\n",
    "```"
   ],
   "id": "544532827285b182"
  },
  {
   "metadata": {},
   "cell_type": "code",
   "outputs": [],
   "execution_count": null,
   "source": [
    "def digital_root(n: int) -> int: return n if n < 10 else digital_root(sum(int(digit) for digit in str(n)))\n",
    "# or\n",
    "def digital_root(n: int) -> int: return n if n < 10 else digital_root(sum(map(int,str(n))))"
   ],
   "id": "9853d636291ba6cd"
  },
  {
   "metadata": {},
   "cell_type": "markdown",
   "source": [
    "---\n",
    "### <mark style=\"background: white\">8 kyu</mark> Remove First and Last Character\n",
    "It's pretty straightforward. Your goal is to create a function that removes the first and last characters of a string. You're given one parameter, the original string. You don't have to worry about strings with less than two characters."
   ],
   "id": "51693f0983696b4c"
  },
  {
   "metadata": {},
   "cell_type": "code",
   "outputs": [],
   "execution_count": null,
   "source": "def remove_char(s: str) -> str: return s[1:-1]",
   "id": "34dab6d7e5f298fa"
  },
  {
   "metadata": {},
   "cell_type": "markdown",
   "source": [
    "---\n",
    "### <mark style=\"background: white\">8 kyu</mark> Invert values\n",
    "Given a set of numbers, return the additive inverse of each. Each positive becomes negatives, and the negatives become positives.\n",
    "```\n",
    "[1, 2, 3, 4, 5] --> [-1, -2, -3, -4, -5]\n",
    "[1, -2, 3, -4, 5] --> [-1, 2, -3, 4, -5]\n",
    "[] --> []\n",
    "```\n",
    "You can assume that all values are integers. Do not mutate the input array."
   ],
   "id": "fa43ed062a60c70a"
  },
  {
   "metadata": {},
   "cell_type": "code",
   "outputs": [],
   "execution_count": null,
   "source": "def invert(lst: list) -> list: return list(map(lambda x: -x, lst))",
   "id": "6a794ca9f478f5ab"
  },
  {
   "metadata": {},
   "cell_type": "markdown",
   "source": [
    "---\n",
    "### <mark style=\"background: white\">8 kyu</mark> Sum Arrays\n",
    "Write a function that takes an array of numbers and returns the sum of the numbers. The numbers can be negative or non-integer. If the array does not contain any numbers then you should return 0.\n",
    "\n",
    "**Examples**\n",
    "\n",
    "Input: `[1, 5.2, 4, 0, -1]`\n",
    "\n",
    "Output: `9.2`\n",
    "\n",
    "Input: `[]`\n",
    "\n",
    "Output: `0`\n",
    "\n",
    "Input: `[-2.398]`\n",
    "\n",
    "Output: `-2.398`\n",
    "\n",
    "**Assumptions**\n",
    "\n",
    "- You can assume that you are only given numbers.\n",
    "- You cannot assume the size of the array.\n",
    "- You can assume that you do get an array and if the array is empty, return 0.\n",
    "\n",
    "**What We're Testing**\n",
    "\n",
    "We're testing basic loops and math operations. This is for beginners who are just learning loops and math operations.\n",
    "Advanced users may find this extremely easy and can easily write this in one line.\n"
   ],
   "id": "e36a4ba0bb026541"
  },
  {
   "metadata": {},
   "cell_type": "code",
   "outputs": [],
   "execution_count": null,
   "source": "def sum_array(a: list) -> int | float: return sum(a) if a else 0",
   "id": "9138604595db58a5"
  }
 ],
 "metadata": {
  "kernelspec": {
   "display_name": "Python 3",
   "language": "python",
   "name": "python3"
  },
  "language_info": {
   "codemirror_mode": {
    "name": "ipython",
    "version": 2
   },
   "file_extension": ".py",
   "mimetype": "text/x-python",
   "name": "python",
   "nbconvert_exporter": "python",
   "pygments_lexer": "ipython2",
   "version": "2.7.6"
  }
 },
 "nbformat": 4,
 "nbformat_minor": 5
}
