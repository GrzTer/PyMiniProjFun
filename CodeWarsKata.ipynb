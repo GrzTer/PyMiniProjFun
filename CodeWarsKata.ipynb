{
 "cells": [
  {
   "metadata": {},
   "cell_type": "markdown",
   "source": [
    "Find the first character that repeats in a String and return that character.\n",
    "```python\n",
    "first_dup('tweet') => 't'\n",
    "first_dup('like') => None\n",
    "```\n",
    "This is not the same as finding the character that repeats first. In that case, an input of 'tweet' would yield 'e'.\n",
    "\n",
    "**Another example:**\n",
    "\n",
    "In 'translator' you should return 't', not 'a'.\n",
    "```\n",
    "v      v\n",
    "translator\n",
    "  ^   ^\n",
    "```\n",
    "While second 'a' appears before second 't', the first 't' is before the first 'a'."
   ],
   "id": "ad3239703b0d881c"
  },
  {
   "metadata": {},
   "cell_type": "code",
   "source": [
    "def first_dup(s: str) -> str:\n",
    "    return next((x for x in s if s.count(x) > 1), None)"
   ],
   "id": "1badd941b3b83fd4",
   "outputs": [],
   "execution_count": null
  },
  {
   "metadata": {},
   "cell_type": "markdown",
   "source": [
    "---\n",
    "\n",
    "Complete the solution so that it reverses the string passed into it.\n",
    "```\n",
    "'world'  =>  'dlrow'\n",
    "'word'   =>  'drow'\n",
    "```"
   ],
   "id": "d188c86547e6bf6b"
  },
  {
   "metadata": {
    "jupyter": {
     "is_executing": true
    }
   },
   "cell_type": "code",
   "source": "def solution(string: str): return string[::-1]",
   "id": "bd01b246eb3a75d9",
   "outputs": [],
   "execution_count": null
  },
  {
   "metadata": {},
   "cell_type": "markdown",
   "source": [
    "---\n",
    "Your team is writing a fancy new text editor and you've been tasked with implementing the line numbering.\n",
    "\n",
    "Write a function which takes a list of strings and returns each line prepended by the correct number.\n",
    "\n",
    "The numbering starts at 1. The format is `n: string`. Notice the colon and space in between.\n",
    "\n",
    "**Examples: (Input --> Output)**\n",
    "```\n",
    "[] --> []\n",
    "[\"a\", \"b\", \"c\"] --> [\"1: a\", \"2: b\", \"3: c\"]\n",
    "```"
   ],
   "id": "63975e5ba4aafafa"
  },
  {
   "metadata": {},
   "cell_type": "code",
   "source": [
    "def number(lines: list) -> list:\n",
    "    return [f\"{index + 1}: {line}\" for index, line in enumerate(lines)]"
   ],
   "id": "6d778bccfd06054d",
   "outputs": [],
   "execution_count": null
  },
  {
   "metadata": {},
   "cell_type": "markdown",
   "source": [
    "---\n",
    "**A square of squares**\n",
    "\n",
    "You like building blocks. You especially like building blocks that are squares. And what you even like more, is to arrange them into a square of square building blocks!\n",
    "\n",
    "However, sometimes, you can't arrange them into a square. Instead, you end up with an ordinary rectangle! Those blasted things! If you just had a way to know, whether you're currently working in vain… Wait! That's it! You just have to check if your number of building blocks is a perfect square.\n",
    "\n",
    "**Task**\n",
    "\n",
    "Given an integral number, determine if it's a <u>square number</u>:\n",
    "\n",
    ">_\"In mathematics, a **square number** or **perfect square** is an integer that is the square of an integer; in other words, it is the product of some integer with itself.\"_\n",
    "\n",
    "The tests will always use some integral number, so don't worry about that in dynamic typed languages.\n",
    "\n",
    "**Examples**\n",
    "```\n",
    "-1  =>  false\n",
    " 0  =>  true\n",
    " 3  =>  false\n",
    " 4  =>  true\n",
    "25  =>  true\n",
    "26  =>  false\n",
    "```"
   ],
   "id": "84c5ac582f5952ab"
  },
  {
   "metadata": {},
   "cell_type": "code",
   "source": "def is_square(n: int) -> bool: return 0 <= n == int(n ** 0.5) ** 2",
   "id": "4fd7febd34c731d2",
   "outputs": [],
   "execution_count": null
  },
  {
   "metadata": {},
   "cell_type": "markdown",
   "source": [
    "---\n",
    "You are going to be given an array of integers. Your job is to take that array and find an index N where the sum of the integers to the left of N is equal to the sum of the integers to the right of N.\n",
    "\n",
    "If there is no index that would make this happen, return `-1`.\n",
    "\n",
    "**For example:**\n",
    "\n",
    "Let's say you are given the array `{1,2,3,4,3,2,1}`:\n",
    "Your function will return the index `3`, because at the 3rd position of the array, the sum of left side of the index (`{1,2,3}`) and the sum of the right side of the index (`{3,2,1}`) both equal `6`.\n",
    "\n",
    "Let's look at another one:\n",
    "\n",
    "You are given the array `{1,100,50,-51,1,1}`:\n",
    "Your function will return the index `1`, because at the 1st position of the array, the sum of left side of the index (`{1}`) and the sum of the right side of the index (`{50,-51,1,1}`) both equal `1`.\n",
    "\n",
    "Last one:\n",
    "\n",
    "You are given the array `{20,10,-80,10,10,15,35}`\n",
    "At index 0 the left side is `{}`\n",
    "The right side is `{10,-80,10,10,15,35}`\n",
    "They both are equal to `0` when added. (Empty arrays are equal to 0 in this problem)\n",
    "Index `0` is the place where the left side and right side are equal.\n",
    "\n",
    "Note: Please remember that in most languages the index of an array starts at 0.\n",
    "\n",
    "**Input**\n",
    "\n",
    "An integer array of length `0 < arr < 1000`. The numbers in the array can be any integer positive or negative.\n",
    "\n",
    "**Output**\n",
    "\n",
    "The lowest index N where the side to the left of `N` is equal to the side to the right of `N`. If you do not find an index that fits these rules, then you will return `-1`.\n",
    "\n",
    "**Note**\n",
    "\n",
    "If you are given an array with multiple answers, return the lowest correct index."
   ],
   "id": "b9607e6ab02bc400"
  },
  {
   "metadata": {
    "jupyter": {
     "is_executing": true
    }
   },
   "cell_type": "code",
   "source": [
    "def find_even_index(arr: list) -> int:\n",
    "    left = 0\n",
    "    for i in range(len(arr)):\n",
    "        right = sum(arr) - left - arr[i]\n",
    "        if left == right:\n",
    "            return i\n",
    "        left += arr[i]\n",
    "    return None\n",
    "\n",
    "\n",
    "# Oneline with next()\n",
    "def find_even_index2(arr: list) -> list: return next((i for i in range(len(arr)) if sum(arr[:i]) == sum(arr[i + 1:])),\n",
    "                                                     -1)"
   ],
   "id": "ee26af4e809a7937",
   "outputs": [],
   "execution_count": null
  },
  {
   "metadata": {},
   "cell_type": "markdown",
   "source": [
    "---\n",
    "Write a function named `setAlarm`/`set_alarm`/`set-alarm`/`setalarm` (depending on language) which receives two parameters. The first parameter, `employed`, is true whenever you are employed and the second parameter, `vacation` is true whenever you are on vacation.\n",
    "\n",
    "The function should return true if you are employed and not on vacation (because these are the circumstances under which you need to set an alarm). It should return false otherwise. Examples:\n",
    "```\n",
    "employed | vacation\n",
    "true     | true     => false\n",
    "true     | false    => true\n",
    "false    | true     => false\n",
    "false    | false    => false\n",
    "```"
   ],
   "id": "8d699d1260624648"
  },
  {
   "metadata": {},
   "cell_type": "code",
   "source": [
    "def set_alarm(employed: bool, vacation: bool) -> bool: return next(True if employed == True and vacation == False,\n",
    "                                                                   False)"
   ],
   "id": "958e8b9b83062a3c",
   "outputs": [],
   "execution_count": null
  },
  {
   "metadata": {},
   "cell_type": "markdown",
   "source": [
    "---\n",
    "### <mark style=\"background: white\">8 kyu</mark> Opposites Attract\n",
    "Timmy & Sarah think they are in love, but around where they live, they will only know once they pick a flower each. If one of the flowers has an even number of petals and the other has an odd number of petals it means they are in love.\n",
    "\n",
    "Write a function that will take the number of petals of each flower and return true if they are in love and false if they aren't."
   ],
   "id": "cae6ffa3373d8c96"
  },
  {
   "metadata": {},
   "cell_type": "code",
   "source": "def lovefunc(flower1: int, flower2: int) -> bool: return (flower1 + flower2) % 2 != 0",
   "id": "87661d4e6e314db6",
   "outputs": [],
   "execution_count": null
  },
  {
   "metadata": {},
   "cell_type": "markdown",
   "source": [
    "---\n",
    "### <mark style=\"background: white\">7 kyu</mark> Friend or Foe?\n",
    "Make a program that filters a list of strings and returns a list with only your friends name in it.\n",
    "\n",
    "If a name has exactly 4 letters in it, you can be sure that it has to be a friend of yours! Otherwise, you can be sure he's not...\n",
    "```\n",
    "Input = [\"Ryan\", \"Kieran\", \"Jason\", \"Yous\"]\n",
    "Output = [\"Ryan\", \"Yous\"]\n",
    "\n",
    "Input = [\"Peter\", \"Stephen\", \"Joe\"]\n",
    "Output = []\n",
    "```\n",
    "Input strings will only contain letters.\n",
    "Note: keep the original order of the names in the output."
   ],
   "id": "cd4be15aff0d9699"
  },
  {
   "metadata": {},
   "cell_type": "code",
   "source": "def friend(x: list[str]) -> list[str]: return [i for i in x if len(i) == 4]",
   "id": "e22466fc6b7b564",
   "outputs": [],
   "execution_count": null
  },
  {
   "metadata": {},
   "cell_type": "markdown",
   "source": [
    "---\n",
    "### <mark style=\"background: #yellow\">6 kyu</mark> Sum of Digits / Digital Root\n",
    "<u>Digital root</u> is the recursive sum of all the digits in a number.\n",
    "\n",
    "Given `n`, take the sum of the digits of `n`. If that value has more than one digit, continue reducing in this way until a single-digit number is produced. The input will be a non-negative integer.\n",
    "\n",
    "**Examples**\n",
    "```\n",
    "    16  -->  1 + 6 = 7\n",
    "   942  -->  9 + 4 + 2 = 15  -->  1 + 5 = 6\n",
    "132189  -->  1 + 3 + 2 + 1 + 8 + 9 = 24  -->  2 + 4 = 6\n",
    "493193  -->  4 + 9 + 3 + 1 + 9 + 3 = 29  -->  2 + 9 = 11  -->  1 + 1 = 2\n",
    "```"
   ],
   "id": "544532827285b182"
  },
  {
   "metadata": {},
   "cell_type": "code",
   "source": [
    "def digital_root(n: int) -> int: return n if n < 10 else digital_root(sum(int(digit) for digit in str(n)))\n",
    "\n",
    "\n",
    "# or\n",
    "def digital_root(n: int) -> int: return n if n < 10 else digital_root(sum(map(int, str(n))))"
   ],
   "id": "9853d636291ba6cd",
   "outputs": [],
   "execution_count": null
  },
  {
   "metadata": {},
   "cell_type": "markdown",
   "source": [
    "---\n",
    "### <mark style=\"background: white\">8 kyu</mark> Remove First and Last Character\n",
    "It's pretty straightforward. Your goal is to create a function that removes the first and last characters of a string. You're given one parameter, the original string. You don't have to worry about strings with less than two characters."
   ],
   "id": "51693f0983696b4c"
  },
  {
   "metadata": {},
   "cell_type": "code",
   "source": "def remove_char(s: str) -> str: return s[1:-1]",
   "id": "34dab6d7e5f298fa",
   "outputs": [],
   "execution_count": null
  },
  {
   "metadata": {},
   "cell_type": "markdown",
   "source": [
    "---\n",
    "### <mark style=\"background: white\">8 kyu</mark> Invert values\n",
    "Given a set of numbers, return the additive inverse of each. Each positive becomes negatives, and the negatives become positives.\n",
    "```\n",
    "[1, 2, 3, 4, 5] --> [-1, -2, -3, -4, -5]\n",
    "[1, -2, 3, -4, 5] --> [-1, 2, -3, 4, -5]\n",
    "[] --> []\n",
    "```\n",
    "You can assume that all values are integers. Do not mutate the input array."
   ],
   "id": "fa43ed062a60c70a"
  },
  {
   "metadata": {},
   "cell_type": "code",
   "source": "def invert(lst: list) -> list: return list(map(lambda x: -x, lst))",
   "id": "6a794ca9f478f5ab",
   "outputs": [],
   "execution_count": null
  },
  {
   "metadata": {},
   "cell_type": "markdown",
   "source": [
    "---\n",
    "### <mark style=\"background: white\">8 kyu</mark> Sum Arrays\n",
    "Write a function that takes an array of numbers and returns the sum of the numbers. The numbers can be negative or non-integer. If the array does not contain any numbers then you should return 0.\n",
    "\n",
    "**Examples**\n",
    "\n",
    "Input: `[1, 5.2, 4, 0, -1]`\n",
    "\n",
    "Output: `9.2`\n",
    "\n",
    "Input: `[]`\n",
    "\n",
    "Output: `0`\n",
    "\n",
    "Input: `[-2.398]`\n",
    "\n",
    "Output: `-2.398`\n",
    "\n",
    "**Assumptions**\n",
    "\n",
    "- You can assume that you are only given numbers.\n",
    "- You cannot assume the size of the array.\n",
    "- You can assume that you do get an array and if the array is empty, return 0.\n",
    "\n",
    "**What We're Testing**\n",
    "\n",
    "We're testing basic loops and math operations. This is for beginners who are just learning loops and math operations.\n",
    "Advanced users may find this extremely easy and can easily write this in one line.\n"
   ],
   "id": "e36a4ba0bb026541"
  },
  {
   "metadata": {},
   "cell_type": "code",
   "source": "def sum_array(a: list) -> int | float: return sum(a) if a else 0",
   "id": "9138604595db58a5",
   "outputs": [],
   "execution_count": null
  },
  {
   "metadata": {},
   "cell_type": "markdown",
   "source": [
    "---\n",
    "### <mark style=\"background: white\">7 kyu</mark> Descending Order\n",
    "Your task is to make a function that can take any non-negative integer as an argument and return it with its digits in descending order. Essentially, rearrange the digits to create the highest possible number.\n",
    "\n",
    "**Examples:**\n",
    "\n",
    "Input: `42145` Output: `54421`\n",
    "\n",
    "Input: `145263` Output: `654321`\n",
    "\n",
    "Input: `123456789` Output: `987654321`\n",
    "\n"
   ],
   "id": "e10d14edb223931b"
  },
  {
   "metadata": {},
   "cell_type": "code",
   "source": "def descending_order(num: int) -> int: return int(''.join(sorted(str(num), reverse=True)))",
   "id": "a20e451c4f8e8edf",
   "outputs": [],
   "execution_count": null
  },
  {
   "metadata": {},
   "cell_type": "markdown",
   "source": [
    "---\n",
    "### <mark style=\"background: white\">7 kyu</mark> Get the Middle Character\n",
    "\n",
    "You are going to be given a **non-empty** string. Your job is to return the middle character(s) of the string.\n",
    "\n",
    "- If the string's length is odd, return the middle character.\n",
    "- If the string's length is even, return the middle 2 characters.\n",
    "\n",
    "**Examples:**\n",
    "```\n",
    "\"test\" --> \"es\"\n",
    "\"testing\" --> \"t\"\n",
    "\"middle\" --> \"dd\"\n",
    "\"A\" --> \"A\"\n",
    "```"
   ],
   "id": "52ecfe9bc20864d0"
  },
  {
   "metadata": {},
   "cell_type": "code",
   "source": "def get_middle(s: str) -> str: return s[(len(s) - 1) // 2:len(s) // 2 +1] if len(s) % 2 == 0 else s[(len(s) - 1) // 2]",
   "id": "4c0c5c42f103ac65",
   "outputs": [],
   "execution_count": null
  },
  {
   "metadata": {},
   "cell_type": "markdown",
   "source": [
    "---\n",
    "### <mark style=\"background: white\">8 kyu</mark> Convert boolean values to strings 'Yes' or 'No'.\n",
    "Complete the method that takes a boolean value and return a `Yes` string for `true`, or a `No` string for `false`."
   ],
   "id": "dd882cc2f4b955c2"
  },
  {
   "metadata": {},
   "cell_type": "code",
   "source": "def bool_to_word(boolean: bool) -> str: return \"Yes\" if boolean else \"No\"",
   "id": "88b81ac70c9d9c6a",
   "outputs": [],
   "execution_count": null
  },
  {
   "metadata": {},
   "cell_type": "markdown",
   "source": [
    "---\n",
    "### <mark style=\"background: white\">7 kyu</mark> Regex validate PIN code\n",
    "ATM machines allow 4 or 6 digit PIN codes and PIN codes cannot contain anything but **exactly** 4 digits or **exactly** 6 digits.\n",
    "\n",
    "If the function is passed a valid PIN string, return `true`, else return `false`.\n",
    "\n",
    "**Examples (Input --> Output)**\n",
    "```\n",
    "\"1234\"   -->  true\n",
    "\"12345\"  -->  false\n",
    "\"a234\"   -->  false\n",
    "```"
   ],
   "id": "956d5426f21c1467"
  },
  {
   "metadata": {},
   "cell_type": "code",
   "source": "def validate_pin(pin: str) -> bool: return len(pin) in (4, 6) and pin.isdigit()",
   "id": "6d4a08b59ebfcfb9",
   "outputs": [],
   "execution_count": null
  },
  {
   "metadata": {},
   "cell_type": "markdown",
   "source": [
    "---\n",
    "### <mark style=\"background: yellow\">6 kyu</mark> Counting Duplicates\n",
    "**Count the number of Duplicates**\n",
    "Write a function that will return the count of **distinct case-insensitive** alphabetic characters and numeric digits that occur more than once in the input string. The input string can be assumed to contain only alphabets (both uppercase and lowercase) and numeric digits.\n",
    "\n",
    "**Example**\n",
    "\n",
    "\"abcde\" -> `0 # no characters repeats more than once`\n",
    "\n",
    "\"aabbcde\" -> `2 # 'a' and 'b'`\n",
    "\n",
    "\"aabBcde\" -> `2 # 'a' occurs twice and 'b' twice (`b` and `B`)`\n",
    "\n",
    "\"indivisibility\" -> `1 # 'i' occurs six times`\n",
    "\n",
    "\"Indivisibilities\" -> `2 # 'i' occurs seven times and 's' occurs twice`\n",
    "\n",
    "\"aA11\" -> `2 # 'a' and '1'`\n",
    "\n",
    "\"ABBA\" -> `2 # 'A' and 'B' each occur twice`"
   ],
   "id": "6242e5f7a0c4b3c0"
  },
  {
   "metadata": {},
   "cell_type": "code",
   "source": "def duplicate_count(text: str) -> int: return len([char for char in set(text.lower()) if text.lower().count(char)>1])",
   "id": "3782c0b31f44fd9d",
   "outputs": [],
   "execution_count": null
  },
  {
   "metadata": {},
   "cell_type": "markdown",
   "source": [
    "---\n",
    "### <mark style=\"background: white\">7 kyu</mark> Sum of odd numbers\n",
    "Given the triangle of consecutive odd numbers:\n",
    "```\n",
    "            1\n",
    "          3     5\n",
    "       7     9    11\n",
    "   13    15    17    19\n",
    "21    23    25    27    29\n",
    "...\n",
    "```\n",
    "Calculate the sum of the numbers in the n^th row of this triangle (starting at index 1) e.g.: **(Input --> Output)**\n",
    "```\n",
    "1 -->  1\n",
    "2 --> 3 + 5 = 8\n",
    "```\n"
   ],
   "id": "5a87b2012d58dd90"
  },
  {
   "metadata": {},
   "cell_type": "code",
   "source": [
    "def row_sum_odd_numbers(n: int) -> int: return n ** 3\n",
    "\"\"\"\n",
    "1st --> 1 = 1\n",
    "2nd --> 2 = 8\n",
    "3rd --> 3 = 27\n",
    "4th --> 4 = 64\n",
    "5th --> 5 = 125\n",
    "13th --> 13 = 2197\n",
    "\"\"\""
   ],
   "id": "22b105963ee16f88",
   "outputs": [],
   "execution_count": null
  },
  {
   "metadata": {},
   "cell_type": "markdown",
   "source": [
    "---\n",
    "### <mark style=\"background: white\">8 kyu</mark> Calculate average\n",
    "Write a function which calculates the average of the numbers in a given array.\n",
    "\n",
    "**Note:** Empty arrays should return 0."
   ],
   "id": "bd7207616a3872ce"
  },
  {
   "metadata": {},
   "cell_type": "code",
   "source": "def find_average(numbers: list[int]) -> float: return sum(numbers) / len(numbers) if numbers else 0",
   "id": "f05863b705d196cb",
   "outputs": [],
   "execution_count": null
  },
  {
   "metadata": {},
   "cell_type": "markdown",
   "source": [
    "---\n",
    "### <mark style=\"background: white\">8 kyu</mark> Simple multiplication\n",
    "This kata is about multiplying a given number by eight if it is an even number and by nine otherwise."
   ],
   "id": "1a923a3b651f27bf"
  },
  {
   "metadata": {},
   "cell_type": "code",
   "source": "def simple_multiplication(number: int) -> int: return number * 8 if number % 2 == 0 else number * 9",
   "id": "2425df8f7236857f",
   "outputs": [],
   "execution_count": null
  },
  {
   "metadata": {},
   "cell_type": "markdown",
   "source": [
    "---\n",
    "### <mark style=\"background: yellow\">6 kyu</mark> Split Strings\n",
    "Complete the solution so that it splits the string into pairs of two characters. If the string contains an odd number of characters then it should replace the missing second character of the final pair with an underscore ('_').\n",
    "\n",
    "**Examples:**\n",
    "```\n",
    "* 'abc' =>  ['ab', 'c_']\n",
    "* 'abcdef' => ['ab', 'cd', 'ef']\n",
    "```"
   ],
   "id": "8e78999d69baf8c0"
  },
  {
   "metadata": {},
   "cell_type": "code",
   "source": "def solution(s: str) -> list: return [s[i:i+2] if len(s[i:i+2]) == 2 else s[i] + '_' for i in range(0, len(s), 2)]",
   "id": "77e7330268d0ed0e",
   "outputs": [],
   "execution_count": null
  },
  {
   "metadata": {},
   "cell_type": "markdown",
   "source": [
    "---\n",
    "### <mark style=\"background: white\">7 kyu</mark> Number of People in the Bus\n",
    "There is a bus moving in the city which takes and drops some people at each bus stop.\n",
    "\n",
    "You are provided with a list (or array) of integer pairs. Elements of each pair represent the number of people that get on the bus (the first item) and the number of people that get off the bus (the second item) at a bus stop.\n",
    "\n",
    "Your task is to return the number of people who are still on the bus after the last bus stop (after the last array). Even though it is the last bus stop, the bus might not be empty and some people might still be inside the bus, they are probably sleeping there :D\n",
    "\n",
    "Take a look on the test cases.\n",
    "\n",
    "Please keep in mind that the test cases ensure that the number of people in the bus is always >= 0. So the returned integer can't be negative.\n",
    "\n",
    "The second value in the first pair in the array is 0, since the bus is empty in the first bus stop."
   ],
   "id": "e02a5143614bac59"
  },
  {
   "metadata": {},
   "cell_type": "code",
   "source": "def number(bus_stops: list) -> int: return sum(on - off for on, off in bus_stops)",
   "id": "a9989143e3de7902",
   "outputs": [],
   "execution_count": null
  },
  {
   "metadata": {},
   "cell_type": "markdown",
   "source": [
    "---\n",
    "### <mark style=\"background: white\">8 kyu</mark> Keep Hydrated!\n",
    "Nathan loves cycling.\n",
    "\n",
    "Because Nathan knows it is important to stay hydrated, he drinks 0.5 litres of water per hour of cycling.\n",
    "\n",
    "You get given the time in hours and you need to return the number of litres Nathan will drink, rounded <i>down</i>.\n",
    "\n",
    "For example:\n",
    "```\n",
    "time = 3 ----> litres = 1\n",
    "\n",
    "time = 6.7---> litres = 3\n",
    "\n",
    "time = 11.8--> litres = 5\n",
    "```"
   ],
   "id": "86ea7cb43c3851b4"
  },
  {
   "metadata": {},
   "cell_type": "code",
   "source": "def litres(time: int) -> int: return time // 2",
   "id": "133f4042082e93b8",
   "outputs": [],
   "execution_count": null
  },
  {
   "metadata": {},
   "cell_type": "markdown",
   "source": [
    "---\n",
    "### <mark style=\"background: white\">8 kyu</mark> Square(n) Sum\n",
    "Complete the square sum function so that it squares each number passed into it and then sums the results together\n",
    "For example, for [1, 2, 2] it should return `9` because `1^2 + 2^2 + 2 + 2^2 = 9`."
   ],
   "id": "59bb51ea9bf50f5c"
  },
  {
   "metadata": {},
   "cell_type": "code",
   "source": "def square_sum(numbers: list) -> int: return sum(i ** 2 for i in numbers)",
   "id": "df57a0fccae8c0c",
   "outputs": [],
   "execution_count": null
  },
  {
   "metadata": {},
   "cell_type": "markdown",
   "source": [
    "---\n",
    "### <mark style=\"background: cyan\">4 kyu</mark> Snail\n",
    "Given an `n x n` array, return the array elements arranged from outermost elements to the middle element, traveling clockwise.\n",
    "```\n",
    "array = [[1,2,3],\n",
    "         [4,5,6],\n",
    "         [7,8,9]]\n",
    "snail(array) #=> [1,2,3,6,9,8,7,4,5]\n",
    "```\n",
    "For better understanding, please follow the numbers of the next array consecutively:\n",
    "```\n",
    "array = [[1,2,3],\n",
    "         [8,9,4],\n",
    "         [7,6,5]]\n",
    "snail(array) #=> [1,2,3,4,5,6,7,8,9]\n",
    "```\n",
    "NOTE: The idea is not sort the elements from the lowest value to the highest; the idea is to traverse the 2-d array in a clockwise snailshell pattern.\n",
    "\n",
    "NOTE 2: The 0x0 (empty matrix) is represented as en empty array inside an array `[[]]`."
   ],
   "id": "ea44c5eeb37b9cab"
  },
  {
   "metadata": {},
   "cell_type": "code",
   "source": "def snail(snail_map): return snail_map and [*snail_map.pop(0)] + snail([*zip(*snail_map)][::-1])",
   "id": "929f1c25deedc1a0",
   "outputs": [],
   "execution_count": null
  },
  {
   "metadata": {},
   "cell_type": "code",
   "source": [
    "def snail(array):\n",
    "    mission = Game(array)\n",
    "    path = []\n",
    "    while mission.we_are_not_done:\n",
    "        path.append(mission.dig_at_location())\n",
    "        if mission.it_is_safe_to_slither:\n",
    "            mission.slither_onwards_good_soldier()\n",
    "        else:\n",
    "            mission.turn_away_from_fire()\n",
    "            mission.slither_onwards_good_soldier()\n",
    "    return path\n",
    "\n",
    "\n",
    "class Game(object):\n",
    "    def __init__(self, array):\n",
    "        self.map = array\n",
    "        self.moves_left = len(array) * len(array[0])\n",
    "        self.coords = {\"x\": 0, \"y\": len(array)-1}  # start in NW area.\n",
    "        self.dir = \"E\"  # slitherin' east.\n",
    "        self.fire = {\"min_x\": -1, \"min_y\": -1, \"max_x\": len(array),\n",
    "                     \"max_y\": len(array)}  # the carpet is lava.\n",
    "        self.rules = {\"N\": {\"x\": 0, \"y\": 1, \"turn\": \"E\"},\n",
    "                      \"E\": {\"x\": 1, \"y\": 0, \"turn\": \"S\"},\n",
    "                      \"S\": {\"x\": 0, \"y\": -1, \"turn\": \"W\"},\n",
    "                      \"W\": {\"x\": -1, \"y\": 0, \"turn\": \"N\"}}\n",
    "\n",
    "    def slither_onwards_good_soldier(self):\n",
    "        self.coords[\"x\"] = self.next_x\n",
    "        self.coords[\"y\"] = self.next_y\n",
    "        self._subtract_move()\n",
    "\n",
    "    def turn_away_from_fire(self):\n",
    "        self._become_aware_that_the_world_is_closing_in()\n",
    "        self.dir = self.rules[self.dir][\"turn\"]\n",
    "\n",
    "    def dig_at_location(self):\n",
    "        # have to invert the y location for the purpose of the array.\n",
    "        return self.map[len(self.map)-self.coords[\"y\"]-1][self.coords[\"x\"]]\n",
    "\n",
    "    def report_in(self):\n",
    "        print(\"Dear Sir! I'm stationed @ x: %s, y: %s, heading %s.\" %\n",
    "              (self.coords[\"x\"], self.coords[\"y\"], self.dir))\n",
    "\n",
    "    @property\n",
    "    def it_is_safe_to_slither(self):\n",
    "        x = self.next_x\n",
    "        y = self.next_y\n",
    "        if x != self.fire[\"min_x\"] and \\\n",
    "           x != self.fire[\"max_x\"] and \\\n",
    "           y != self.fire[\"min_y\"] and \\\n",
    "           y != self.fire[\"max_y\"]:\n",
    "            return True\n",
    "\n",
    "    @property\n",
    "    def we_are_not_done(self):\n",
    "        if self.moves_left > 0:\n",
    "            return True\n",
    "\n",
    "    @property\n",
    "    def next_x(self):\n",
    "        return self.coords[\"x\"] + self.rules[self.dir][\"x\"]\n",
    "\n",
    "    @property\n",
    "    def next_y(self):\n",
    "        return self.coords[\"y\"] + self.rules[self.dir][\"y\"]\n",
    "\n",
    "    def _become_aware_that_the_world_is_closing_in(self):\n",
    "        if self.dir == \"N\":\n",
    "            self.fire[\"min_x\"] += 1\n",
    "        if self.dir == \"E\":\n",
    "            self.fire[\"max_y\"] -= 1\n",
    "        if self.dir == \"S\":\n",
    "            self.fire[\"max_x\"] -= 1\n",
    "        if self.dir == \"W\":\n",
    "            self.fire[\"min_y\"] += 1\n",
    "\n",
    "    def _subtract_move(self):\n",
    "        self.moves_left -= 1"
   ],
   "id": "a4d589d2ba16660a",
   "outputs": [],
   "execution_count": null
  },
  {
   "metadata": {},
   "cell_type": "markdown",
   "source": [
    "---\n",
    "### <mark style=\"background: white\">7 kyu</mark> Two to One\n",
    "Take 2 strings `s1` and `s2` including only letters from `a` to `z`. Return a new **sorted** string (alphabetical ascending), the longest possible, containing distinct letters - each taken only once - coming from s1 or s2.\n",
    "\n",
    "**Examples:**\n",
    "\n",
    "```\n",
    "a = \"xyaabbbccccdefww\"\n",
    "b = \"xxxxyyyyabklmopq\"\n",
    "longest(a, b) -> \"abcdefklmopqwxy\"\n",
    "\n",
    "a = \"abcdefghijklmnopqrstuvwxyz\"\n",
    "longest(a, a) -> \"abcdefghijklmnopqrstuvwxyz\"\n",
    "```"
   ],
   "id": "6be598f77955757"
  },
  {
   "metadata": {},
   "cell_type": "code",
   "source": "def longest(a1: str, a2: str) -> str: return \"\".join(sorted(list(set(a1+a2))))",
   "id": "b949b2d9a03f94cd",
   "outputs": [],
   "execution_count": null
  },
  {
   "metadata": {},
   "cell_type": "markdown",
   "source": [
    "---\n",
    "### <mark style=\"background: yellow\">6 kyu</mark> Take a Ten Minutes Walk\n",
    "You live in the city of Cartesia where all roads are laid out in a perfect grid. You arrived ten minutes too early to an appointment, so you decided to take the opportunity to go for a short walk. The city provides its citizens with a Walk Generating App on their phones -- everytime you press the button it sends you an array of one-letter strings representing directions to walk (eg. ['n', 's', 'w', 'e']). You always walk only a single block for each letter (direction) and you know it takes you one minute to traverse one city block, so create a function that will return **true** if the walk the app gives you will take you exactly ten minutes (you don't want to be early or late!) and will, of course, return you to your starting point. Return **false** otherwise.\n",
    "\n",
    "> \"**Note:** you will always receive a valid array containing a random assortment of direction letters ('n', 's', 'e', or 'w' only). It will never give you an empty array (that's not a walk, that's standing still!).\""
   ],
   "id": "c7b4dac7016c275e"
  },
  {
   "metadata": {},
   "cell_type": "code",
   "source": "def is_valid_walk(walk): return len(walk) == 10 and walk.count('n') == walk.count('s') and walk.count('e') == walk.count('w')",
   "id": "d7e54d16f5ff090d",
   "outputs": [],
   "execution_count": null
  },
  {
   "metadata": {},
   "cell_type": "markdown",
   "source": [
    "---\n",
    "### <mark style=\"background: yellow\">6 kyu</mark> Persistent Bugger.\n",
    "Write a function, `persistence`, that takes in a positive parameter `num` and returns its multiplicative persistence, which is the number of times you must multiply the digits in `num` until you reach a single digit.\n",
    "\n",
    "For example **(Input --> Output)**:\n",
    "```\n",
    "39 --> 3 (because 3*9 = 27, 2*7 = 14, 1*4 = 4 and 4 has only one digit, there are 3 multiplications)\n",
    "999 --> 4 (because 9*9*9 = 729, 7*2*9 = 126, 1*2*6 = 12, and finally 1*2 = 2, there are 4 multiplications)\n",
    "4 --> 0 (because 4 is already a one-digit number, there is no multiplication)\n",
    "```"
   ],
   "id": "91b9175ca3d13269"
  },
  {
   "metadata": {},
   "cell_type": "code",
   "source": "def persistence(n): return 0 if n < 10 else 1 + persistence(eval(\"*\".join(str(n))))",
   "id": "ac50599ed1b0fdc0",
   "outputs": [],
   "execution_count": null
  },
  {
   "metadata": {},
   "cell_type": "markdown",
   "source": [
    "---\n",
    "### <mark style=\"background: white\">8 kyu</mark> Calculate BMI\n",
    "Write function bmi that calculates body mass index (bmi = weight / height^2).\n",
    "\n",
    "if bmi <= 18.5 return \"Underweight\"\n",
    "\n",
    "if bmi <= 25.0 return \"Normal\"\n",
    "\n",
    "if bmi <= 30.0 return \"Overweight\"\n",
    "\n",
    "if bmi > 30 return \"Obese\""
   ],
   "id": "4a6c8575aaac30a1"
  },
  {
   "metadata": {},
   "cell_type": "code",
   "source": [
    "def bmi(weight: int, height: float) -> str:\n",
    "    return \"Underweight\" if (b := weight/(height**2)) <= 18.5 else \"Normal\" if b <= 25.0 else \"Overweight\" if b <= 30.0 else \"Obese\"\n",
    "# Inne fajne\n",
    "def bmi1(weight, height):\n",
    "    return ['Underweight', 'Normal', 'Overweight', 'Obese'][(b := weight / height ** 2 > 30) + (b > 25) + (b > 18.5)]"
   ],
   "id": "17a072acdcace404",
   "outputs": [],
   "execution_count": null
  }
 ],
 "metadata": {
  "kernelspec": {
   "display_name": "Python 3",
   "language": "python",
   "name": "python3"
  },
  "language_info": {
   "codemirror_mode": {
    "name": "ipython",
    "version": 2
   },
   "file_extension": ".py",
   "mimetype": "text/x-python",
   "name": "python",
   "nbconvert_exporter": "python",
   "pygments_lexer": "ipython2",
   "version": "2.7.6"
  }
 },
 "nbformat": 4,
 "nbformat_minor": 5
}
